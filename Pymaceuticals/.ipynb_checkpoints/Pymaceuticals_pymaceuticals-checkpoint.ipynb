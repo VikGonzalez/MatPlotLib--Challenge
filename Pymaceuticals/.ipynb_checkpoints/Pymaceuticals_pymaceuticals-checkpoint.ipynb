{
 "cells": [
  {
   "cell_type": "markdown",
   "metadata": {},
   "source": [
    "# Context\n",
    "#Pymaceuticals specializes in anti-cancer pharmaceuticals. \n",
    "#Potential treatments for squamous cell carcinoma (SCC), form of skin cancer.\n",
    "#In this study, 250 mice identified with SCC tumor growth were treated during 45 days\n",
    "#Purposed to compare the performance of Capomulin, versus the other treatment regimens.\n",
    "\n",
    "# Analysis\n",
    "For this excercise we bring some statistical tools provided by Python programming language\n",
    "Results:\n",
    "•\t1,893 registers of 249 mice with different number of datapoints\n",
    "•\t49.8% Female and 50.2% Male\n",
    "•\tTop 4 Drug Regimens are : 'Ramicane', 'Capomulin', 'Ceftamin', 'Infubinol' based on Final Tumor Volume (mm3).\n",
    "•\tCapomulin shows the Best results per mouse on TimePoint vs TumorVolume\n",
    "•\tWe´ve found mild outliers ( lower than the 25th quartile [Q1] minus 1.5 x IQR or greater than the 75th quartile [Q3] plus 1.5 x IQR) not enough to refuse results.\n",
    "\n",
    "•\tAs part of our exploratory analysis for Capomulin Regimen Drug, we calculated linear regression (linear approach to model the relationship between a dependent variable (target variable) and one (simple regression) or more (multiple regression) independent variables) with this process: \n",
    "1)\tPlotting distribution variables into histograms where, we can conclude that Tumor Volume (mm3) and Mouse Weight(g)  are normal distributed.\n",
    "2)\tA scatter plot shows a relative relation between Tumor Volume (mm3) and Mouse Weight(g). A reason could be a small number of unique mice.\n",
    "3)\tUse of  simple linear regression as an approach to modeling the relationship between Tumor Volume (mm3) variable and Weight (g) variable, obtaining a line that best fits the data.\n",
    "4)\tWith Numpy function polyfit we obtained the polynomial coefficients that minimize the square error. \n",
    "\n",
    "This analysis provides a very strong Weight correlation coefficient (0.86).\n",
    "\n"
   ]
  },
  {
   "cell_type": "markdown",
   "metadata": {},
   "source": [
    "## Dependencies and starter code"
   ]
  },
  {
   "cell_type": "code",
   "execution_count": 61,
   "metadata": {
    "scrolled": false
   },
   "outputs": [
    {
     "data": {
      "text/html": [
       "<div>\n",
       "<style scoped>\n",
       "    .dataframe tbody tr th:only-of-type {\n",
       "        vertical-align: middle;\n",
       "    }\n",
       "\n",
       "    .dataframe tbody tr th {\n",
       "        vertical-align: top;\n",
       "    }\n",
       "\n",
       "    .dataframe thead th {\n",
       "        text-align: right;\n",
       "    }\n",
       "</style>\n",
       "<table border=\"1\" class=\"dataframe\">\n",
       "  <thead>\n",
       "    <tr style=\"text-align: right;\">\n",
       "      <th></th>\n",
       "      <th>Mouse ID</th>\n",
       "      <th>Drug Regimen</th>\n",
       "      <th>Sex</th>\n",
       "      <th>Age_months</th>\n",
       "      <th>Weight (g)</th>\n",
       "      <th>Timepoint</th>\n",
       "      <th>Tumor Volume (mm3)</th>\n",
       "      <th>Metastatic Sites</th>\n",
       "    </tr>\n",
       "  </thead>\n",
       "  <tbody>\n",
       "    <tr>\n",
       "      <th>0</th>\n",
       "      <td>k403</td>\n",
       "      <td>Ramicane</td>\n",
       "      <td>Male</td>\n",
       "      <td>21</td>\n",
       "      <td>16</td>\n",
       "      <td>0</td>\n",
       "      <td>45.0</td>\n",
       "      <td>0</td>\n",
       "    </tr>\n",
       "    <tr>\n",
       "      <th>1</th>\n",
       "      <td>k403</td>\n",
       "      <td>Ramicane</td>\n",
       "      <td>Male</td>\n",
       "      <td>21</td>\n",
       "      <td>16</td>\n",
       "      <td>5</td>\n",
       "      <td>38.8</td>\n",
       "      <td>0</td>\n",
       "    </tr>\n",
       "    <tr>\n",
       "      <th>2</th>\n",
       "      <td>k403</td>\n",
       "      <td>Ramicane</td>\n",
       "      <td>Male</td>\n",
       "      <td>21</td>\n",
       "      <td>16</td>\n",
       "      <td>10</td>\n",
       "      <td>35.0</td>\n",
       "      <td>1</td>\n",
       "    </tr>\n",
       "    <tr>\n",
       "      <th>3</th>\n",
       "      <td>k403</td>\n",
       "      <td>Ramicane</td>\n",
       "      <td>Male</td>\n",
       "      <td>21</td>\n",
       "      <td>16</td>\n",
       "      <td>15</td>\n",
       "      <td>34.2</td>\n",
       "      <td>1</td>\n",
       "    </tr>\n",
       "    <tr>\n",
       "      <th>4</th>\n",
       "      <td>k403</td>\n",
       "      <td>Ramicane</td>\n",
       "      <td>Male</td>\n",
       "      <td>21</td>\n",
       "      <td>16</td>\n",
       "      <td>20</td>\n",
       "      <td>33.0</td>\n",
       "      <td>1</td>\n",
       "    </tr>\n",
       "    <tr>\n",
       "      <th>...</th>\n",
       "      <td>...</td>\n",
       "      <td>...</td>\n",
       "      <td>...</td>\n",
       "      <td>...</td>\n",
       "      <td>...</td>\n",
       "      <td>...</td>\n",
       "      <td>...</td>\n",
       "      <td>...</td>\n",
       "    </tr>\n",
       "    <tr>\n",
       "      <th>1888</th>\n",
       "      <td>z969</td>\n",
       "      <td>Naftisol</td>\n",
       "      <td>Male</td>\n",
       "      <td>9</td>\n",
       "      <td>30</td>\n",
       "      <td>25</td>\n",
       "      <td>63.1</td>\n",
       "      <td>2</td>\n",
       "    </tr>\n",
       "    <tr>\n",
       "      <th>1889</th>\n",
       "      <td>z969</td>\n",
       "      <td>Naftisol</td>\n",
       "      <td>Male</td>\n",
       "      <td>9</td>\n",
       "      <td>30</td>\n",
       "      <td>30</td>\n",
       "      <td>65.8</td>\n",
       "      <td>3</td>\n",
       "    </tr>\n",
       "    <tr>\n",
       "      <th>1890</th>\n",
       "      <td>z969</td>\n",
       "      <td>Naftisol</td>\n",
       "      <td>Male</td>\n",
       "      <td>9</td>\n",
       "      <td>30</td>\n",
       "      <td>35</td>\n",
       "      <td>69.2</td>\n",
       "      <td>4</td>\n",
       "    </tr>\n",
       "    <tr>\n",
       "      <th>1891</th>\n",
       "      <td>z969</td>\n",
       "      <td>Naftisol</td>\n",
       "      <td>Male</td>\n",
       "      <td>9</td>\n",
       "      <td>30</td>\n",
       "      <td>40</td>\n",
       "      <td>70.3</td>\n",
       "      <td>4</td>\n",
       "    </tr>\n",
       "    <tr>\n",
       "      <th>1892</th>\n",
       "      <td>z969</td>\n",
       "      <td>Naftisol</td>\n",
       "      <td>Male</td>\n",
       "      <td>9</td>\n",
       "      <td>30</td>\n",
       "      <td>45</td>\n",
       "      <td>73.9</td>\n",
       "      <td>4</td>\n",
       "    </tr>\n",
       "  </tbody>\n",
       "</table>\n",
       "<p>1893 rows × 8 columns</p>\n",
       "</div>"
      ],
      "text/plain": [
       "     Mouse ID Drug Regimen   Sex  Age_months  Weight (g)  Timepoint  \\\n",
       "0        k403     Ramicane  Male          21          16          0   \n",
       "1        k403     Ramicane  Male          21          16          5   \n",
       "2        k403     Ramicane  Male          21          16         10   \n",
       "3        k403     Ramicane  Male          21          16         15   \n",
       "4        k403     Ramicane  Male          21          16         20   \n",
       "...       ...          ...   ...         ...         ...        ...   \n",
       "1888     z969     Naftisol  Male           9          30         25   \n",
       "1889     z969     Naftisol  Male           9          30         30   \n",
       "1890     z969     Naftisol  Male           9          30         35   \n",
       "1891     z969     Naftisol  Male           9          30         40   \n",
       "1892     z969     Naftisol  Male           9          30         45   \n",
       "\n",
       "      Tumor Volume (mm3)  Metastatic Sites  \n",
       "0                   45.0                 0  \n",
       "1                   38.8                 0  \n",
       "2                   35.0                 1  \n",
       "3                   34.2                 1  \n",
       "4                   33.0                 1  \n",
       "...                  ...               ...  \n",
       "1888                63.1                 2  \n",
       "1889                65.8                 3  \n",
       "1890                69.2                 4  \n",
       "1891                70.3                 4  \n",
       "1892                73.9                 4  \n",
       "\n",
       "[1893 rows x 8 columns]"
      ]
     },
     "execution_count": 61,
     "metadata": {},
     "output_type": "execute_result"
    }
   ],
   "source": [
    "# Dependencies and Setup\n",
    "import matplotlib.pyplot as plt\n",
    "import pandas as pd\n",
    "import scipy.stats as st\n",
    "import numpy as np\n",
    "\n",
    "# use 2 decimal places in output display\n",
    "pd.set_option(\"display.precision\",1)\n",
    "\n",
    "# Study data files & Read the mouse data and the study results\n",
    "\n",
    "Ms= pd.read_csv (\"data/Mouse_metadata.csv\")\n",
    "Rs= pd.read_csv (\"data/Study_results.csv\")\n",
    "\n",
    "\n",
    "# Combine the data into a single dataset\n",
    "\n",
    "MergeData = pd.merge(Ms,Rs, on= \"Mouse ID\")\n",
    "\n",
    "MergeData\n"
   ]
  },
  {
   "cell_type": "markdown",
   "metadata": {},
   "source": [
    "## Summary statistics ok"
   ]
  },
  {
   "cell_type": "code",
   "execution_count": 62,
   "metadata": {
    "scrolled": true
   },
   "outputs": [],
   "source": [
    "# Combinar los dos archivos .csv en la variable Summary\n",
    "Summary =pd.merge(Ms,Rs,how= \"left\", left_on= \"Mouse ID\", right_on= \"Mouse ID\" )\n",
    "\n",
    "#Establecer la columna Drug Regimen como index\n",
    "Summary.set_index(\"Drug Regimen\")\n",
    "\n",
    "#groupby por Drug Regimen\n",
    "DrugRegimen= Summary.groupby([\"Drug Regimen\"])\n",
    "\n"
   ]
  },
  {
   "cell_type": "markdown",
   "metadata": {},
   "source": [
    "* Genere una tabla de estadísticas resumido que consta de la media, mediana, varianza, desviación estándar y SEM del volumen tumoral para cada régimen de fármacos."
   ]
  },
  {
   "cell_type": "code",
   "execution_count": 63,
   "metadata": {},
   "outputs": [
    {
     "data": {
      "text/html": [
       "<div>\n",
       "<style scoped>\n",
       "    .dataframe tbody tr th:only-of-type {\n",
       "        vertical-align: middle;\n",
       "    }\n",
       "\n",
       "    .dataframe tbody tr th {\n",
       "        vertical-align: top;\n",
       "    }\n",
       "\n",
       "    .dataframe thead tr th {\n",
       "        text-align: left;\n",
       "    }\n",
       "\n",
       "    .dataframe thead tr:last-of-type th {\n",
       "        text-align: right;\n",
       "    }\n",
       "</style>\n",
       "<table border=\"1\" class=\"dataframe\">\n",
       "  <thead>\n",
       "    <tr>\n",
       "      <th></th>\n",
       "      <th colspan=\"5\" halign=\"left\">Tumor Volume (mm3)</th>\n",
       "    </tr>\n",
       "    <tr>\n",
       "      <th></th>\n",
       "      <th>mean</th>\n",
       "      <th>median</th>\n",
       "      <th>var</th>\n",
       "      <th>std</th>\n",
       "      <th>sem</th>\n",
       "    </tr>\n",
       "    <tr>\n",
       "      <th>Drug Regimen</th>\n",
       "      <th></th>\n",
       "      <th></th>\n",
       "      <th></th>\n",
       "      <th></th>\n",
       "      <th></th>\n",
       "    </tr>\n",
       "  </thead>\n",
       "  <tbody>\n",
       "    <tr>\n",
       "      <th>Capomulin</th>\n",
       "      <td>40.7</td>\n",
       "      <td>41.6</td>\n",
       "      <td>24.9</td>\n",
       "      <td>5.0</td>\n",
       "      <td>0.3</td>\n",
       "    </tr>\n",
       "    <tr>\n",
       "      <th>Ceftamin</th>\n",
       "      <td>52.6</td>\n",
       "      <td>51.8</td>\n",
       "      <td>39.3</td>\n",
       "      <td>6.3</td>\n",
       "      <td>0.5</td>\n",
       "    </tr>\n",
       "    <tr>\n",
       "      <th>Infubinol</th>\n",
       "      <td>52.9</td>\n",
       "      <td>51.8</td>\n",
       "      <td>43.1</td>\n",
       "      <td>6.6</td>\n",
       "      <td>0.5</td>\n",
       "    </tr>\n",
       "    <tr>\n",
       "      <th>Ketapril</th>\n",
       "      <td>55.2</td>\n",
       "      <td>53.7</td>\n",
       "      <td>68.6</td>\n",
       "      <td>8.3</td>\n",
       "      <td>0.6</td>\n",
       "    </tr>\n",
       "    <tr>\n",
       "      <th>Naftisol</th>\n",
       "      <td>54.3</td>\n",
       "      <td>52.5</td>\n",
       "      <td>66.2</td>\n",
       "      <td>8.1</td>\n",
       "      <td>0.6</td>\n",
       "    </tr>\n",
       "    <tr>\n",
       "      <th>Placebo</th>\n",
       "      <td>54.0</td>\n",
       "      <td>52.3</td>\n",
       "      <td>61.2</td>\n",
       "      <td>7.8</td>\n",
       "      <td>0.6</td>\n",
       "    </tr>\n",
       "    <tr>\n",
       "      <th>Propriva</th>\n",
       "      <td>52.3</td>\n",
       "      <td>50.9</td>\n",
       "      <td>42.4</td>\n",
       "      <td>6.5</td>\n",
       "      <td>0.5</td>\n",
       "    </tr>\n",
       "    <tr>\n",
       "      <th>Ramicane</th>\n",
       "      <td>40.2</td>\n",
       "      <td>40.7</td>\n",
       "      <td>23.5</td>\n",
       "      <td>4.8</td>\n",
       "      <td>0.3</td>\n",
       "    </tr>\n",
       "    <tr>\n",
       "      <th>Stelasyn</th>\n",
       "      <td>54.2</td>\n",
       "      <td>52.4</td>\n",
       "      <td>59.5</td>\n",
       "      <td>7.7</td>\n",
       "      <td>0.6</td>\n",
       "    </tr>\n",
       "    <tr>\n",
       "      <th>Zoniferol</th>\n",
       "      <td>53.2</td>\n",
       "      <td>51.8</td>\n",
       "      <td>48.5</td>\n",
       "      <td>7.0</td>\n",
       "      <td>0.5</td>\n",
       "    </tr>\n",
       "  </tbody>\n",
       "</table>\n",
       "</div>"
      ],
      "text/plain": [
       "             Tumor Volume (mm3)                       \n",
       "                           mean median   var  std  sem\n",
       "Drug Regimen                                          \n",
       "Capomulin                  40.7   41.6  24.9  5.0  0.3\n",
       "Ceftamin                   52.6   51.8  39.3  6.3  0.5\n",
       "Infubinol                  52.9   51.8  43.1  6.6  0.5\n",
       "Ketapril                   55.2   53.7  68.6  8.3  0.6\n",
       "Naftisol                   54.3   52.5  66.2  8.1  0.6\n",
       "Placebo                    54.0   52.3  61.2  7.8  0.6\n",
       "Propriva                   52.3   50.9  42.4  6.5  0.5\n",
       "Ramicane                   40.2   40.7  23.5  4.8  0.3\n",
       "Stelasyn                   54.2   52.4  59.5  7.7  0.6\n",
       "Zoniferol                  53.2   51.8  48.5  7.0  0.5"
      ]
     },
     "execution_count": 63,
     "metadata": {},
     "output_type": "execute_result"
    }
   ],
   "source": [
    "#Utlizar método agg para obtener las medidas solicitadas para cada Regimen\n",
    "DrugRegimen.agg({\"Tumor Volume (mm3)\":[\"mean\",\"median\",\"var\", \"std\", \"sem\"]})"
   ]
  },
  {
   "cell_type": "markdown",
   "metadata": {},
   "source": [
    "## Bar plots ok"
   ]
  },
  {
   "cell_type": "markdown",
   "metadata": {},
   "source": [
    " \n",
    "•\tGenere una gráfica de barras utilizando DataFrame.plot() de Pandas y el pyplot  de Matplotlib  que muestra el número de puntos de datos para cada régimen de tratamiento."
   ]
  },
  {
   "cell_type": "code",
   "execution_count": 64,
   "metadata": {},
   "outputs": [
    {
     "data": {
      "text/plain": [
       "<function matplotlib.pyplot.show(*args, **kw)>"
      ]
     },
     "execution_count": 64,
     "metadata": {},
     "output_type": "execute_result"
    },
    {
     "data": {
      "image/png": "[encoded data removed]",
      "text/plain": [
       "<Figure size 432x288 with 1 Axes>"
      ]
     },
     "metadata": {},
     "output_type": "display_data"
    }
   ],
   "source": [
    "# Generate a bar plot showing number of data points for each treatment regimen using pandas\n",
    "(\n",
    "    MergeData\n",
    "    .groupby(\"Drug Regimen\")[\"Mouse ID\"]\n",
    "    .count()\n",
    "    .plot(kind=\"bar\", color = \"blue\")\n",
    ")\n",
    "\n",
    "plt.ylabel ( \"Data Points\")\n",
    "plt.title(f\" Regimen Treatments ( Total Data Pts: {MergeData.shape [0]})\", fontweight= \"light\")\n",
    "plt.show"
   ]
  },
  {
   "cell_type": "code",
   "execution_count": 65,
   "metadata": {},
   "outputs": [
    {
     "data": {
      "text/plain": [
       "<function matplotlib.pyplot.show(*args, **kw)>"
      ]
     },
     "execution_count": 65,
     "metadata": {},
     "output_type": "execute_result"
    },
    {
     "data": {
      "image/png": "[encoded data removed]",
      "text/plain": [
       "<Figure size 432x288 with 1 Axes>"
      ]
     },
     "metadata": {},
     "output_type": "display_data"
    }
   ],
   "source": [
    "# Generate a bar plot showing number of data points for each treatment regimen using pyplot\n",
    "DataPoints = MergeData.groupby(\"Drug Regimen\")[\"Mouse ID\"].count()\n",
    "xLabels = list(DataPoints.index)\n",
    "\n",
    "plt.bar(xLabels,DataPoints,color=\"red\")\n",
    "plt.xticks(rotation=90)\n",
    "plt.xlabel(\"Drug Regimen\")\n",
    "plt.ylabel ( \"Data Points\")\n",
    "plt.title(f\" Regimen Treatments ( Total Data Pts: {MergeData.shape [0]})\", fontweight= \"light\")\n",
    "plt.show\n"
   ]
  },
  {
   "cell_type": "markdown",
   "metadata": {},
   "source": [
    "## Pie plots ok"
   ]
  },
  {
   "cell_type": "markdown",
   "metadata": {},
   "source": [
    "•Genere una gráfica circular utilizando DataFrame.plot() de Pandas y la gráfica gráfica de Matplotlib  que muestra la distribución de ratones hembraos o machos en el estudio."
   ]
  },
  {
   "cell_type": "code",
   "execution_count": 66,
   "metadata": {},
   "outputs": [
    {
     "data": {
      "text/plain": [
       "<function matplotlib.pyplot.show(*args, **kw)>"
      ]
     },
     "execution_count": 66,
     "metadata": {},
     "output_type": "execute_result"
    },
    {
     "data": {
      "image/png": "[encoded data removed]",
      "text/plain": [
       "<Figure size 432x288 with 1 Axes>"
      ]
     },
     "metadata": {},
     "output_type": "display_data"
    }
   ],
   "source": [
    "# Generate a pie plot showing the distribution of female versus male mice using pandas\n",
    "(\n",
    "    Ms\n",
    "    .groupby(\"Sex\")[\"Mouse ID\"]\n",
    "    .count()\n",
    "    .plot(kind=\"pie\", \n",
    "        autopct= \"%1.1f%%\",\n",
    "          colors = [\"pink\",\"yellow\"],\n",
    "          pctdistance = 0.75,\n",
    "          startangle = 90)\n",
    ")\n",
    "\n",
    "plt.title(f\" Lab Mice Sex Distribution  ( Total Mice: {Ms.shape [0]})\", fontweight= \"light\")\n",
    "centre_circle = plt.Circle((0,0 ), 0.50, fc= \"white\")\n",
    "fig = plt.gcf()\n",
    "fig.gca().add_artist(centre_circle)\n",
    "plt.axis(\"off\")\n",
    "\n",
    "\n",
    "plt.show"
   ]
  },
  {
   "cell_type": "code",
   "execution_count": 67,
   "metadata": {},
   "outputs": [
    {
     "data": {
      "text/plain": [
       "<function matplotlib.pyplot.show(*args, **kw)>"
      ]
     },
     "execution_count": 67,
     "metadata": {},
     "output_type": "execute_result"
    },
    {
     "data": {
      "image/png": "[encoded data removed]",
      "text/plain": [
       "<Figure size 432x288 with 1 Axes>"
      ]
     },
     "metadata": {},
     "output_type": "display_data"
    }
   ],
   "source": [
    "# Generate a pie plot showing the distribution of female versus male mice using pyplot\n",
    "\n",
    "DataPoints = MergeData.groupby(\"Sex\")[\"Mouse ID\"].count()\n",
    "xLabels = list(DataPoints.index)\n",
    "\n",
    "plt.pie(\n",
    "    DataPoints,\n",
    "    labels= DataPoints.index,\n",
    "    autopct= \"%1.1f%%\",\n",
    "    colors=[\"coral\",\"red\"],\n",
    "    pctdistance = 0.75,\n",
    "    startangle = 90)\n",
    "\n",
    "plt.title(f\" Lab Mice Sex Distribution  ( Total Mice: {Ms.shape [0]})\", fontweight= \"light\")\n",
    "centre_circle = plt.Circle((0,0 ), 0.50, fc= \"white\")\n",
    "fig = plt.gcf()\n",
    "fig.gca().add_artist(centre_circle)\n",
    "plt.axis(\"off\")\n",
    "\n",
    "\n",
    "plt.show\n",
    "\n"
   ]
  },
  {
   "cell_type": "markdown",
   "metadata": {},
   "source": [
    "## Quartiles, outliers and boxplots"
   ]
  },
  {
   "cell_type": "code",
   "execution_count": 68,
   "metadata": {
    "scrolled": true
   },
   "outputs": [],
   "source": [
    "MergeData = pd.merge(Ms,Rs, on= \"Mouse ID\")\n",
    "MergeDF= pd.DataFrame(MergeData)\n",
    "MergeDF.dropna().inplace= True\n"
   ]
  },
  {
   "cell_type": "markdown",
   "metadata": {},
   "source": [
    "### •\tCalcular el volumen final del tumor de cada ratón a través de cuatro de los regímenes de tratamiento más prometedores: Capomulin, Ramicane, Infubinol y Ceftamin. "
   ]
  },
  {
   "cell_type": "code",
   "execution_count": 69,
   "metadata": {},
   "outputs": [
    {
     "data": {
      "text/html": [
       "<div>\n",
       "<style scoped>\n",
       "    .dataframe tbody tr th:only-of-type {\n",
       "        vertical-align: middle;\n",
       "    }\n",
       "\n",
       "    .dataframe tbody tr th {\n",
       "        vertical-align: top;\n",
       "    }\n",
       "\n",
       "    .dataframe thead th {\n",
       "        text-align: right;\n",
       "    }\n",
       "</style>\n",
       "<table border=\"1\" class=\"dataframe\">\n",
       "  <thead>\n",
       "    <tr style=\"text-align: right;\">\n",
       "      <th></th>\n",
       "      <th>Drug Regimen</th>\n",
       "      <th>Final Size</th>\n",
       "      <th>Tumor Reduction</th>\n",
       "    </tr>\n",
       "    <tr>\n",
       "      <th>Mouse ID</th>\n",
       "      <th></th>\n",
       "      <th></th>\n",
       "      <th></th>\n",
       "    </tr>\n",
       "  </thead>\n",
       "  <tbody>\n",
       "    <tr>\n",
       "      <th>a203</th>\n",
       "      <td>Infubinol</td>\n",
       "      <td>68.0</td>\n",
       "      <td>-23.0</td>\n",
       "    </tr>\n",
       "    <tr>\n",
       "      <th>a251</th>\n",
       "      <td>Infubinol</td>\n",
       "      <td>65.5</td>\n",
       "      <td>-20.5</td>\n",
       "    </tr>\n",
       "    <tr>\n",
       "      <th>a262</th>\n",
       "      <td>Placebo</td>\n",
       "      <td>70.7</td>\n",
       "      <td>-25.7</td>\n",
       "    </tr>\n",
       "    <tr>\n",
       "      <th>a275</th>\n",
       "      <td>Ceftamin</td>\n",
       "      <td>63.0</td>\n",
       "      <td>-18.0</td>\n",
       "    </tr>\n",
       "    <tr>\n",
       "      <th>a366</th>\n",
       "      <td>Stelasyn</td>\n",
       "      <td>63.4</td>\n",
       "      <td>-18.4</td>\n",
       "    </tr>\n",
       "    <tr>\n",
       "      <th>...</th>\n",
       "      <td>...</td>\n",
       "      <td>...</td>\n",
       "      <td>...</td>\n",
       "    </tr>\n",
       "    <tr>\n",
       "      <th>z435</th>\n",
       "      <td>Propriva</td>\n",
       "      <td>48.7</td>\n",
       "      <td>-3.7</td>\n",
       "    </tr>\n",
       "    <tr>\n",
       "      <th>z578</th>\n",
       "      <td>Ramicane</td>\n",
       "      <td>30.6</td>\n",
       "      <td>14.4</td>\n",
       "    </tr>\n",
       "    <tr>\n",
       "      <th>z581</th>\n",
       "      <td>Infubinol</td>\n",
       "      <td>62.8</td>\n",
       "      <td>-17.8</td>\n",
       "    </tr>\n",
       "    <tr>\n",
       "      <th>z795</th>\n",
       "      <td>Naftisol</td>\n",
       "      <td>65.7</td>\n",
       "      <td>-20.7</td>\n",
       "    </tr>\n",
       "    <tr>\n",
       "      <th>z969</th>\n",
       "      <td>Naftisol</td>\n",
       "      <td>73.9</td>\n",
       "      <td>-28.9</td>\n",
       "    </tr>\n",
       "  </tbody>\n",
       "</table>\n",
       "<p>249 rows × 3 columns</p>\n",
       "</div>"
      ],
      "text/plain": [
       "         Drug Regimen  Final Size  Tumor Reduction\n",
       "Mouse ID                                          \n",
       "a203        Infubinol        68.0            -23.0\n",
       "a251        Infubinol        65.5            -20.5\n",
       "a262          Placebo        70.7            -25.7\n",
       "a275         Ceftamin        63.0            -18.0\n",
       "a366         Stelasyn        63.4            -18.4\n",
       "...               ...         ...              ...\n",
       "z435         Propriva        48.7             -3.7\n",
       "z578         Ramicane        30.6             14.4\n",
       "z581        Infubinol        62.8            -17.8\n",
       "z795         Naftisol        65.7            -20.7\n",
       "z969         Naftisol        73.9            -28.9\n",
       "\n",
       "[249 rows x 3 columns]"
      ]
     },
     "execution_count": 69,
     "metadata": {},
     "output_type": "execute_result"
    }
   ],
   "source": [
    "# Calculate the final tumor volume of each mouse across four of the most promising treatment regimens. \n",
    "\n",
    "TamañoFinal = pd.DataFrame ({\n",
    "    \"Drug Regimen\" : MergeDF.groupby(\"Mouse ID\")[\"Drug Regimen\"].last(),\n",
    "    \"Final Size\" : MergeDF.groupby(\"Mouse ID\")[\"Tumor Volume (mm3)\"].last(),\n",
    "   \"Tumor Reduction\" : round ((MergeDF.groupby(\"Mouse ID\")[\"Tumor Volume (mm3)\"].first() - MergeDF.groupby(\"Mouse ID\")[\"Tumor Volume (mm3)\"].last()),2),\n",
    "})\n",
    "\n",
    "TamañoFinal"
   ]
  },
  {
   "cell_type": "code",
   "execution_count": 70,
   "metadata": {},
   "outputs": [
    {
     "data": {
      "text/plain": [
       "Index(['Ramicane', 'Capomulin', 'Ceftamin', 'Infubinol'], dtype='object', name='Drug Regimen')"
      ]
     },
     "execution_count": 70,
     "metadata": {},
     "output_type": "execute_result"
    }
   ],
   "source": [
    "# Select Top Four Regimens by greatest Tumor Reduction\n",
    "\n",
    "TopCuatro = TamañoFinal.groupby(\"Drug Regimen\")[\"Tumor Reduction\"].min().sort_values(ascending= False).head(4).index\n",
    "TopCuatro #= pd.DataFrame(TopCuatro)\n",
    "\n",
    "# TamañoFinal = (TamañoFinal\n",
    "#                .loc[TamañoFinal[\"Drug Regimen\"].isin(TopCuatro)]\n",
    "#                .sort_values(by = \"Tumor Reduction\", ascending = False))\n",
    "# TamañoFinal\n",
    "#TopCuatroDF"
   ]
  },
  {
   "cell_type": "markdown",
   "metadata": {},
   "source": [
    "### *Calcule los cuartiles y el IQR y determine cuantitativamente si hay valores atípicos potenciales en los cuatro regímenes de tratamiento."
   ]
  },
  {
   "cell_type": "code",
   "execution_count": 71,
   "metadata": {},
   "outputs": [
    {
     "data": {
      "text/html": [
       "<div>\n",
       "<style scoped>\n",
       "    .dataframe tbody tr th:only-of-type {\n",
       "        vertical-align: middle;\n",
       "    }\n",
       "\n",
       "    .dataframe tbody tr th {\n",
       "        vertical-align: top;\n",
       "    }\n",
       "\n",
       "    .dataframe thead th {\n",
       "        text-align: right;\n",
       "    }\n",
       "</style>\n",
       "<table border=\"1\" class=\"dataframe\">\n",
       "  <thead>\n",
       "    <tr style=\"text-align: right;\">\n",
       "      <th></th>\n",
       "      <th>Drug Regimen</th>\n",
       "      <th>Final Size</th>\n",
       "      <th>Tumor Reduction</th>\n",
       "    </tr>\n",
       "    <tr>\n",
       "      <th>Mouse ID</th>\n",
       "      <th></th>\n",
       "      <th></th>\n",
       "      <th></th>\n",
       "    </tr>\n",
       "  </thead>\n",
       "  <tbody>\n",
       "    <tr>\n",
       "      <th>a203</th>\n",
       "      <td>Infubinol</td>\n",
       "      <td>68.0</td>\n",
       "      <td>-23.0</td>\n",
       "    </tr>\n",
       "    <tr>\n",
       "      <th>a251</th>\n",
       "      <td>Infubinol</td>\n",
       "      <td>65.5</td>\n",
       "      <td>-20.5</td>\n",
       "    </tr>\n",
       "    <tr>\n",
       "      <th>a262</th>\n",
       "      <td>Placebo</td>\n",
       "      <td>70.7</td>\n",
       "      <td>-25.7</td>\n",
       "    </tr>\n",
       "    <tr>\n",
       "      <th>a275</th>\n",
       "      <td>Ceftamin</td>\n",
       "      <td>63.0</td>\n",
       "      <td>-18.0</td>\n",
       "    </tr>\n",
       "    <tr>\n",
       "      <th>a366</th>\n",
       "      <td>Stelasyn</td>\n",
       "      <td>63.4</td>\n",
       "      <td>-18.4</td>\n",
       "    </tr>\n",
       "    <tr>\n",
       "      <th>...</th>\n",
       "      <td>...</td>\n",
       "      <td>...</td>\n",
       "      <td>...</td>\n",
       "    </tr>\n",
       "    <tr>\n",
       "      <th>z435</th>\n",
       "      <td>Propriva</td>\n",
       "      <td>48.7</td>\n",
       "      <td>-3.7</td>\n",
       "    </tr>\n",
       "    <tr>\n",
       "      <th>z578</th>\n",
       "      <td>Ramicane</td>\n",
       "      <td>30.6</td>\n",
       "      <td>14.4</td>\n",
       "    </tr>\n",
       "    <tr>\n",
       "      <th>z581</th>\n",
       "      <td>Infubinol</td>\n",
       "      <td>62.8</td>\n",
       "      <td>-17.8</td>\n",
       "    </tr>\n",
       "    <tr>\n",
       "      <th>z795</th>\n",
       "      <td>Naftisol</td>\n",
       "      <td>65.7</td>\n",
       "      <td>-20.7</td>\n",
       "    </tr>\n",
       "    <tr>\n",
       "      <th>z969</th>\n",
       "      <td>Naftisol</td>\n",
       "      <td>73.9</td>\n",
       "      <td>-28.9</td>\n",
       "    </tr>\n",
       "  </tbody>\n",
       "</table>\n",
       "<p>249 rows × 3 columns</p>\n",
       "</div>"
      ],
      "text/plain": [
       "         Drug Regimen  Final Size  Tumor Reduction\n",
       "Mouse ID                                          \n",
       "a203        Infubinol        68.0            -23.0\n",
       "a251        Infubinol        65.5            -20.5\n",
       "a262          Placebo        70.7            -25.7\n",
       "a275         Ceftamin        63.0            -18.0\n",
       "a366         Stelasyn        63.4            -18.4\n",
       "...               ...         ...              ...\n",
       "z435         Propriva        48.7             -3.7\n",
       "z578         Ramicane        30.6             14.4\n",
       "z581        Infubinol        62.8            -17.8\n",
       "z795         Naftisol        65.7            -20.7\n",
       "z969         Naftisol        73.9            -28.9\n",
       "\n",
       "[249 rows x 3 columns]"
      ]
     },
     "execution_count": 71,
     "metadata": {},
     "output_type": "execute_result"
    }
   ],
   "source": [
    "TamañoFinal\n"
   ]
  },
  {
   "cell_type": "code",
   "execution_count": 72,
   "metadata": {},
   "outputs": [],
   "source": [
    "TamañoFinal.columns = [column_name.replace( \" \",\"_\")for column_name in TamañoFinal.columns]"
   ]
  },
  {
   "cell_type": "code",
   "execution_count": 73,
   "metadata": {
    "scrolled": true
   },
   "outputs": [],
   "source": [
    "# Analizar resultados de 'Ramicane', 'Capomulin', 'Ceftamin', 'Infubinol'\n",
    "TopRedQuery = TamañoFinal.query(\"Drug_Regimen in ['Ramicane', 'Capomulin', 'Ceftamin', 'Infubinol' ]\")"
   ]
  },
  {
   "cell_type": "code",
   "execution_count": 74,
   "metadata": {},
   "outputs": [
    {
     "data": {
      "text/plain": [
       "Drug_Regimen        object\n",
       "Final_Size         float64\n",
       "Tumor_Reduction    float64\n",
       "dtype: object"
      ]
     },
     "execution_count": 74,
     "metadata": {},
     "output_type": "execute_result"
    }
   ],
   "source": [
    "TopRedQuery.dtypes"
   ]
  },
  {
   "cell_type": "code",
   "execution_count": 75,
   "metadata": {},
   "outputs": [],
   "source": [
    "# TopRedQuery = (\n",
    "#     # A standard distribution\n",
    "#     pd.DataFrame({'nb': np.random.randint(0, 100, 20)})\n",
    "#         # Adding some outliers\n",
    "#         .append(pd.DataFrame({'nb': np.random.randint(100, 200, 2)}))\n",
    "#         # Reseting the index\n",
    "#         .reset_index(drop=True)\n",
    "#     )"
   ]
  },
  {
   "cell_type": "code",
   "execution_count": 76,
   "metadata": {},
   "outputs": [],
   "source": [
    "Q1 = TopRedQuery['Tumor_Reduction'].quantile(0.25)\n",
    "Q3 = TopRedQuery['Tumor_Reduction'].quantile(0.75)\n",
    "IQR = Q3 - Q1"
   ]
  },
  {
   "cell_type": "code",
   "execution_count": 77,
   "metadata": {},
   "outputs": [],
   "source": [
    "#Values between Q1-1.5IQR and Q3+1.5IQR\n",
    "filtered = TopRedQuery.query('(@Q1 - 1.5 * @IQR) <= Tumor_Reduction <= (@Q3 + 1.5 * @IQR)')"
   ]
  },
  {
   "cell_type": "code",
   "execution_count": 78,
   "metadata": {},
   "outputs": [
    {
     "data": {
      "text/plain": [
       "<matplotlib.axes._subplots.AxesSubplot at 0x2120c007648>"
      ]
     },
     "execution_count": 78,
     "metadata": {},
     "output_type": "execute_result"
    },
    {
     "data": {
      "image/png": "[encoded data removed]",
      "text/plain": [
       "<Figure size 432x288 with 1 Axes>"
      ]
     },
     "metadata": {},
     "output_type": "display_data"
    }
   ],
   "source": [
    "TopRedQuery.join(filtered, rsuffix='_filtered').boxplot()"
   ]
  },
  {
   "cell_type": "markdown",
   "metadata": {},
   "source": [
    "### •Usando Matplotlib, genere una gráfica de caja y bigote del volumen final del tumor para los cuatro regímenes de tratamiento y resalte los posibles valores atípicos en la trama cambiando su color y estilo."
   ]
  },
  {
   "cell_type": "code",
   "execution_count": 79,
   "metadata": {
    "scrolled": true
   },
   "outputs": [
    {
     "data": {
      "text/plain": [
       "<matplotlib.axes._subplots.AxesSubplot at 0x2120bb837c8>"
      ]
     },
     "execution_count": 79,
     "metadata": {},
     "output_type": "execute_result"
    },
    {
     "data": {
      "image/png": "[encoded data removed]",
      "text/plain": [
       "<Figure size 432x288 with 1 Axes>"
      ]
     },
     "metadata": {},
     "output_type": "display_data"
    }
   ],
   "source": [
    "#Values between Q1-1.5IQR and Q3+1.5IQR\n",
    "filtered = TopRedQuery.query('(@Q1 - 1.5 * @IQR) <= Final_Size <= (@Q3 + 1.5 * @IQR)')\n",
    "TopRedQuery.join(filtered, rsuffix='_filtered').boxplot()"
   ]
  },
  {
   "cell_type": "code",
   "execution_count": 80,
   "metadata": {},
   "outputs": [
    {
     "data": {
      "text/plain": [
       "<function matplotlib.pyplot.show(*args, **kw)>"
      ]
     },
     "execution_count": 80,
     "metadata": {},
     "output_type": "execute_result"
    },
    {
     "data": {
      "image/png": "[encoded data removed]",
      "text/plain": [
       "<Figure size 432x288 with 1 Axes>"
      ]
     },
     "metadata": {},
     "output_type": "display_data"
    }
   ],
   "source": [
    "# Generate a box plot of the final tumor volume of each mouse across four regimens of interest\n",
    "\n",
    "labels = []\n",
    "data= []\n",
    "outliers= []\n",
    "for drug in TopRedQuery.index[0:5]:\n",
    "        labels.append(drug)\n",
    "        data.append(TopRedQuery.loc[drug, \"Tumor_Reduction\"])\n",
    "        \n",
    "figl, ax = plt.subplots ()\n",
    "ax.boxplot(data,\n",
    "          whis = 1.5,\n",
    "           #labels = labels,\n",
    "           #patch = True,\n",
    "           #patchArtist= True,\n",
    "           #boxprops= dict(facecolor= \"red\")#,\n",
    "           #medianprops= dict (color= \"blue\")           \n",
    "          )\n",
    "\n",
    "ax.set_title(\"Last Timepoint Tumor Volumes\", fontweight = \"bold\")\n",
    "ax.set_ylabel(\"Tumor Volume (mm3)\")\n",
    "ax.grid\n",
    "plt.show"
   ]
  },
  {
   "cell_type": "markdown",
   "metadata": {},
   "source": [
    "### Sugerencia: Las cuatro gráficas de caja deben estar dentro dela misma figura. Utilice esta página de documentación de Matplotlib  para obtener ayuda con el cambio del estilo de los valores atípicos."
   ]
  },
  {
   "cell_type": "markdown",
   "metadata": {},
   "source": [
    "### •\tGenere una gráfica de línea de punto de tiempo frente al volumen del tumor para un solo ratón tratado con Capomulin."
   ]
  },
  {
   "cell_type": "code",
   "execution_count": 81,
   "metadata": {},
   "outputs": [
    {
     "data": {
      "image/png": "[encoded data removed]",
      "text/plain": [
       "<Figure size 432x288 with 1 Axes>"
      ]
     },
     "metadata": {},
     "output_type": "display_data"
    }
   ],
   "source": [
    "capomulin = MergeDF.loc[MergeDF[\"Drug Regimen\"] == \"Capomulin\"]\n",
    "mouse= capomulin.iloc[0,0]\n",
    "mouseResults = MergeDF.loc[MergeDF[\"Mouse ID\"]== mouse]\n",
    "x_axis = mouseResults[\"Timepoint\"]\n",
    "y_axis = mouseResults[\"Tumor Volume (mm3)\"]\n",
    "\n",
    "plt.plot(x_axis, y_axis, color= \"red\", marker= \"o\")\n",
    "\n",
    "plt.title(f\" TimePoint vs TumorVolume for {mouse}\")\n",
    "plt.xlabel(\"Timepoint\")\n",
    "plt.ylabel(\"Tumor Volume (mm3)\")\n",
    "plt.show()"
   ]
  },
  {
   "cell_type": "markdown",
   "metadata": {},
   "source": [
    "### •\tGenerar una gráfica de dispersión del peso del ratón frente al volumen medio del tumor para el régimen de tratamiento de Capomulin."
   ]
  },
  {
   "cell_type": "code",
   "execution_count": 82,
   "metadata": {},
   "outputs": [
    {
     "data": {
      "text/html": [
       "<div>\n",
       "<style scoped>\n",
       "    .dataframe tbody tr th:only-of-type {\n",
       "        vertical-align: middle;\n",
       "    }\n",
       "\n",
       "    .dataframe tbody tr th {\n",
       "        vertical-align: top;\n",
       "    }\n",
       "\n",
       "    .dataframe thead th {\n",
       "        text-align: right;\n",
       "    }\n",
       "</style>\n",
       "<table border=\"1\" class=\"dataframe\">\n",
       "  <thead>\n",
       "    <tr style=\"text-align: right;\">\n",
       "      <th></th>\n",
       "      <th>Mouse ID</th>\n",
       "      <th>Drug Regimen</th>\n",
       "      <th>Sex</th>\n",
       "      <th>Age_months</th>\n",
       "      <th>Weight (g)</th>\n",
       "      <th>Timepoint</th>\n",
       "      <th>Tumor Volume (mm3)</th>\n",
       "      <th>Metastatic Sites</th>\n",
       "    </tr>\n",
       "  </thead>\n",
       "  <tbody>\n",
       "    <tr>\n",
       "      <th>10</th>\n",
       "      <td>s185</td>\n",
       "      <td>Capomulin</td>\n",
       "      <td>Female</td>\n",
       "      <td>3</td>\n",
       "      <td>17</td>\n",
       "      <td>0</td>\n",
       "      <td>45.0</td>\n",
       "      <td>0</td>\n",
       "    </tr>\n",
       "    <tr>\n",
       "      <th>11</th>\n",
       "      <td>s185</td>\n",
       "      <td>Capomulin</td>\n",
       "      <td>Female</td>\n",
       "      <td>3</td>\n",
       "      <td>17</td>\n",
       "      <td>5</td>\n",
       "      <td>43.9</td>\n",
       "      <td>0</td>\n",
       "    </tr>\n",
       "    <tr>\n",
       "      <th>12</th>\n",
       "      <td>s185</td>\n",
       "      <td>Capomulin</td>\n",
       "      <td>Female</td>\n",
       "      <td>3</td>\n",
       "      <td>17</td>\n",
       "      <td>10</td>\n",
       "      <td>37.6</td>\n",
       "      <td>0</td>\n",
       "    </tr>\n",
       "    <tr>\n",
       "      <th>13</th>\n",
       "      <td>s185</td>\n",
       "      <td>Capomulin</td>\n",
       "      <td>Female</td>\n",
       "      <td>3</td>\n",
       "      <td>17</td>\n",
       "      <td>15</td>\n",
       "      <td>38.2</td>\n",
       "      <td>0</td>\n",
       "    </tr>\n",
       "    <tr>\n",
       "      <th>14</th>\n",
       "      <td>s185</td>\n",
       "      <td>Capomulin</td>\n",
       "      <td>Female</td>\n",
       "      <td>3</td>\n",
       "      <td>17</td>\n",
       "      <td>20</td>\n",
       "      <td>36.9</td>\n",
       "      <td>0</td>\n",
       "    </tr>\n",
       "    <tr>\n",
       "      <th>...</th>\n",
       "      <td>...</td>\n",
       "      <td>...</td>\n",
       "      <td>...</td>\n",
       "      <td>...</td>\n",
       "      <td>...</td>\n",
       "      <td>...</td>\n",
       "      <td>...</td>\n",
       "      <td>...</td>\n",
       "    </tr>\n",
       "    <tr>\n",
       "      <th>440</th>\n",
       "      <td>i557</td>\n",
       "      <td>Capomulin</td>\n",
       "      <td>Female</td>\n",
       "      <td>1</td>\n",
       "      <td>24</td>\n",
       "      <td>45</td>\n",
       "      <td>47.7</td>\n",
       "      <td>1</td>\n",
       "    </tr>\n",
       "    <tr>\n",
       "      <th>1452</th>\n",
       "      <td>r157</td>\n",
       "      <td>Capomulin</td>\n",
       "      <td>Male</td>\n",
       "      <td>22</td>\n",
       "      <td>25</td>\n",
       "      <td>0</td>\n",
       "      <td>45.0</td>\n",
       "      <td>0</td>\n",
       "    </tr>\n",
       "    <tr>\n",
       "      <th>1453</th>\n",
       "      <td>r157</td>\n",
       "      <td>Capomulin</td>\n",
       "      <td>Male</td>\n",
       "      <td>22</td>\n",
       "      <td>25</td>\n",
       "      <td>5</td>\n",
       "      <td>45.6</td>\n",
       "      <td>0</td>\n",
       "    </tr>\n",
       "    <tr>\n",
       "      <th>1454</th>\n",
       "      <td>r157</td>\n",
       "      <td>Capomulin</td>\n",
       "      <td>Male</td>\n",
       "      <td>22</td>\n",
       "      <td>25</td>\n",
       "      <td>10</td>\n",
       "      <td>46.1</td>\n",
       "      <td>0</td>\n",
       "    </tr>\n",
       "    <tr>\n",
       "      <th>1455</th>\n",
       "      <td>r157</td>\n",
       "      <td>Capomulin</td>\n",
       "      <td>Male</td>\n",
       "      <td>22</td>\n",
       "      <td>25</td>\n",
       "      <td>15</td>\n",
       "      <td>46.5</td>\n",
       "      <td>0</td>\n",
       "    </tr>\n",
       "  </tbody>\n",
       "</table>\n",
       "<p>230 rows × 8 columns</p>\n",
       "</div>"
      ],
      "text/plain": [
       "     Mouse ID Drug Regimen     Sex  Age_months  Weight (g)  Timepoint  \\\n",
       "10       s185    Capomulin  Female           3          17          0   \n",
       "11       s185    Capomulin  Female           3          17          5   \n",
       "12       s185    Capomulin  Female           3          17         10   \n",
       "13       s185    Capomulin  Female           3          17         15   \n",
       "14       s185    Capomulin  Female           3          17         20   \n",
       "...       ...          ...     ...         ...         ...        ...   \n",
       "440      i557    Capomulin  Female           1          24         45   \n",
       "1452     r157    Capomulin    Male          22          25          0   \n",
       "1453     r157    Capomulin    Male          22          25          5   \n",
       "1454     r157    Capomulin    Male          22          25         10   \n",
       "1455     r157    Capomulin    Male          22          25         15   \n",
       "\n",
       "      Tumor Volume (mm3)  Metastatic Sites  \n",
       "10                  45.0                 0  \n",
       "11                  43.9                 0  \n",
       "12                  37.6                 0  \n",
       "13                  38.2                 0  \n",
       "14                  36.9                 0  \n",
       "...                  ...               ...  \n",
       "440                 47.7                 1  \n",
       "1452                45.0                 0  \n",
       "1453                45.6                 0  \n",
       "1454                46.1                 0  \n",
       "1455                46.5                 0  \n",
       "\n",
       "[230 rows x 8 columns]"
      ]
     },
     "execution_count": 82,
     "metadata": {},
     "output_type": "execute_result"
    }
   ],
   "source": [
    "capomulinDF = pd.DataFrame(capomulin) \n",
    "capomulinDF"
   ]
  },
  {
   "cell_type": "code",
   "execution_count": 83,
   "metadata": {
    "scrolled": true
   },
   "outputs": [
    {
     "data": {
      "text/html": [
       "<div>\n",
       "<style scoped>\n",
       "    .dataframe tbody tr th:only-of-type {\n",
       "        vertical-align: middle;\n",
       "    }\n",
       "\n",
       "    .dataframe tbody tr th {\n",
       "        vertical-align: top;\n",
       "    }\n",
       "\n",
       "    .dataframe thead th {\n",
       "        text-align: right;\n",
       "    }\n",
       "</style>\n",
       "<table border=\"1\" class=\"dataframe\">\n",
       "  <thead>\n",
       "    <tr style=\"text-align: right;\">\n",
       "      <th></th>\n",
       "      <th>Mouse ID</th>\n",
       "      <th>Drug Regimen</th>\n",
       "      <th>Sex</th>\n",
       "      <th>Age_months</th>\n",
       "      <th>Weight (g)</th>\n",
       "      <th>Timepoint</th>\n",
       "      <th>Tumor Volume (mm3)</th>\n",
       "      <th>Metastatic Sites</th>\n",
       "    </tr>\n",
       "  </thead>\n",
       "  <tbody>\n",
       "    <tr>\n",
       "      <th>10</th>\n",
       "      <td>s185</td>\n",
       "      <td>Capomulin</td>\n",
       "      <td>Female</td>\n",
       "      <td>3</td>\n",
       "      <td>17</td>\n",
       "      <td>0</td>\n",
       "      <td>45.0</td>\n",
       "      <td>0</td>\n",
       "    </tr>\n",
       "    <tr>\n",
       "      <th>11</th>\n",
       "      <td>s185</td>\n",
       "      <td>Capomulin</td>\n",
       "      <td>Female</td>\n",
       "      <td>3</td>\n",
       "      <td>17</td>\n",
       "      <td>5</td>\n",
       "      <td>43.9</td>\n",
       "      <td>0</td>\n",
       "    </tr>\n",
       "    <tr>\n",
       "      <th>12</th>\n",
       "      <td>s185</td>\n",
       "      <td>Capomulin</td>\n",
       "      <td>Female</td>\n",
       "      <td>3</td>\n",
       "      <td>17</td>\n",
       "      <td>10</td>\n",
       "      <td>37.6</td>\n",
       "      <td>0</td>\n",
       "    </tr>\n",
       "    <tr>\n",
       "      <th>13</th>\n",
       "      <td>s185</td>\n",
       "      <td>Capomulin</td>\n",
       "      <td>Female</td>\n",
       "      <td>3</td>\n",
       "      <td>17</td>\n",
       "      <td>15</td>\n",
       "      <td>38.2</td>\n",
       "      <td>0</td>\n",
       "    </tr>\n",
       "    <tr>\n",
       "      <th>14</th>\n",
       "      <td>s185</td>\n",
       "      <td>Capomulin</td>\n",
       "      <td>Female</td>\n",
       "      <td>3</td>\n",
       "      <td>17</td>\n",
       "      <td>20</td>\n",
       "      <td>36.9</td>\n",
       "      <td>0</td>\n",
       "    </tr>\n",
       "    <tr>\n",
       "      <th>...</th>\n",
       "      <td>...</td>\n",
       "      <td>...</td>\n",
       "      <td>...</td>\n",
       "      <td>...</td>\n",
       "      <td>...</td>\n",
       "      <td>...</td>\n",
       "      <td>...</td>\n",
       "      <td>...</td>\n",
       "    </tr>\n",
       "    <tr>\n",
       "      <th>440</th>\n",
       "      <td>i557</td>\n",
       "      <td>Capomulin</td>\n",
       "      <td>Female</td>\n",
       "      <td>1</td>\n",
       "      <td>24</td>\n",
       "      <td>45</td>\n",
       "      <td>47.7</td>\n",
       "      <td>1</td>\n",
       "    </tr>\n",
       "    <tr>\n",
       "      <th>1452</th>\n",
       "      <td>r157</td>\n",
       "      <td>Capomulin</td>\n",
       "      <td>Male</td>\n",
       "      <td>22</td>\n",
       "      <td>25</td>\n",
       "      <td>0</td>\n",
       "      <td>45.0</td>\n",
       "      <td>0</td>\n",
       "    </tr>\n",
       "    <tr>\n",
       "      <th>1453</th>\n",
       "      <td>r157</td>\n",
       "      <td>Capomulin</td>\n",
       "      <td>Male</td>\n",
       "      <td>22</td>\n",
       "      <td>25</td>\n",
       "      <td>5</td>\n",
       "      <td>45.6</td>\n",
       "      <td>0</td>\n",
       "    </tr>\n",
       "    <tr>\n",
       "      <th>1454</th>\n",
       "      <td>r157</td>\n",
       "      <td>Capomulin</td>\n",
       "      <td>Male</td>\n",
       "      <td>22</td>\n",
       "      <td>25</td>\n",
       "      <td>10</td>\n",
       "      <td>46.1</td>\n",
       "      <td>0</td>\n",
       "    </tr>\n",
       "    <tr>\n",
       "      <th>1455</th>\n",
       "      <td>r157</td>\n",
       "      <td>Capomulin</td>\n",
       "      <td>Male</td>\n",
       "      <td>22</td>\n",
       "      <td>25</td>\n",
       "      <td>15</td>\n",
       "      <td>46.5</td>\n",
       "      <td>0</td>\n",
       "    </tr>\n",
       "  </tbody>\n",
       "</table>\n",
       "<p>230 rows × 8 columns</p>\n",
       "</div>"
      ],
      "text/plain": [
       "     Mouse ID Drug Regimen     Sex  Age_months  Weight (g)  Timepoint  \\\n",
       "10       s185    Capomulin  Female           3          17          0   \n",
       "11       s185    Capomulin  Female           3          17          5   \n",
       "12       s185    Capomulin  Female           3          17         10   \n",
       "13       s185    Capomulin  Female           3          17         15   \n",
       "14       s185    Capomulin  Female           3          17         20   \n",
       "...       ...          ...     ...         ...         ...        ...   \n",
       "440      i557    Capomulin  Female           1          24         45   \n",
       "1452     r157    Capomulin    Male          22          25          0   \n",
       "1453     r157    Capomulin    Male          22          25          5   \n",
       "1454     r157    Capomulin    Male          22          25         10   \n",
       "1455     r157    Capomulin    Male          22          25         15   \n",
       "\n",
       "      Tumor Volume (mm3)  Metastatic Sites  \n",
       "10                  45.0                 0  \n",
       "11                  43.9                 0  \n",
       "12                  37.6                 0  \n",
       "13                  38.2                 0  \n",
       "14                  36.9                 0  \n",
       "...                  ...               ...  \n",
       "440                 47.7                 1  \n",
       "1452                45.0                 0  \n",
       "1453                45.6                 0  \n",
       "1454                46.1                 0  \n",
       "1455                46.5                 0  \n",
       "\n",
       "[230 rows x 8 columns]"
      ]
     },
     "execution_count": 83,
     "metadata": {},
     "output_type": "execute_result"
    }
   ],
   "source": [
    "capomulinDF = pd.DataFrame(capomulin) \n",
    "capomulinDF"
   ]
  },
  {
   "cell_type": "code",
   "execution_count": null,
   "metadata": {},
   "outputs": [],
   "source": []
  },
  {
   "cell_type": "code",
   "execution_count": 84,
   "metadata": {},
   "outputs": [
    {
     "data": {
      "image/png": "[encoded data removed]",
      "text/plain": [
       "<Figure size 432x288 with 1 Axes>"
      ]
     },
     "metadata": {},
     "output_type": "display_data"
    }
   ],
   "source": [
    "# Generate a scatter plot of mouse weight versus average tumor volume for the Capomulin regimen\n",
    "\n",
    "capomulinDF = MergeDF.loc[MergeDF[\"Drug Regimen\"] == \"Capomulin\"]\n",
    "#mouse= capomulin.iloc[0,0]\n",
    "#mouseResults = MergeDF.loc[MergeDF[\"Mouse ID\"]== mouse]\n",
    "x_axis = capomulinDF.groupby(\"Mouse ID\")[\"Weight (g)\"].first()\n",
    "y_axis = capomulinDF.groupby(\"Mouse ID\")[\"Tumor Volume (mm3)\"].mean()\n",
    "\n",
    "plt.scatter(x_axis, y_axis, color= \"red\", marker= \"o\", edgecolors = \"black\", alpha= 0.75, s= x_axis)\n",
    "\n",
    "plt.title(f\" Capomuline Results: Mouse Weight vs Average Tumor Volume\")\n",
    "plt.xlabel(\"Weight (g)\")\n",
    "plt.ylabel(\"Tumor Volume (mm3)\")\n",
    "plt.show()"
   ]
  },
  {
   "cell_type": "markdown",
   "metadata": {},
   "source": [
    "### •\tCalcule el coeficiente de correlación y el modelo de regresión lineal entre el peso del ratón y el volumen medio del tumor para el tratamiento con Capomulin. Trazar el modelo de regresión lineal en la parte superior del trazado de dispersión anterior.### "
   ]
  },
  {
   "cell_type": "code",
   "execution_count": 85,
   "metadata": {
    "scrolled": true
   },
   "outputs": [
    {
     "data": {
      "text/html": [
       "<div>\n",
       "<style scoped>\n",
       "    .dataframe tbody tr th:only-of-type {\n",
       "        vertical-align: middle;\n",
       "    }\n",
       "\n",
       "    .dataframe tbody tr th {\n",
       "        vertical-align: top;\n",
       "    }\n",
       "\n",
       "    .dataframe thead th {\n",
       "        text-align: right;\n",
       "    }\n",
       "</style>\n",
       "<table border=\"1\" class=\"dataframe\">\n",
       "  <thead>\n",
       "    <tr style=\"text-align: right;\">\n",
       "      <th></th>\n",
       "      <th>Mouse ID</th>\n",
       "      <th>Drug Regimen</th>\n",
       "      <th>Sex</th>\n",
       "      <th>Age_months</th>\n",
       "      <th>Weight (g)</th>\n",
       "      <th>Timepoint</th>\n",
       "      <th>Tumor Volume (mm3)</th>\n",
       "      <th>Metastatic Sites</th>\n",
       "    </tr>\n",
       "  </thead>\n",
       "  <tbody>\n",
       "    <tr>\n",
       "      <th>10</th>\n",
       "      <td>s185</td>\n",
       "      <td>Capomulin</td>\n",
       "      <td>Female</td>\n",
       "      <td>3</td>\n",
       "      <td>17</td>\n",
       "      <td>0</td>\n",
       "      <td>45.0</td>\n",
       "      <td>0</td>\n",
       "    </tr>\n",
       "    <tr>\n",
       "      <th>11</th>\n",
       "      <td>s185</td>\n",
       "      <td>Capomulin</td>\n",
       "      <td>Female</td>\n",
       "      <td>3</td>\n",
       "      <td>17</td>\n",
       "      <td>5</td>\n",
       "      <td>43.9</td>\n",
       "      <td>0</td>\n",
       "    </tr>\n",
       "    <tr>\n",
       "      <th>12</th>\n",
       "      <td>s185</td>\n",
       "      <td>Capomulin</td>\n",
       "      <td>Female</td>\n",
       "      <td>3</td>\n",
       "      <td>17</td>\n",
       "      <td>10</td>\n",
       "      <td>37.6</td>\n",
       "      <td>0</td>\n",
       "    </tr>\n",
       "    <tr>\n",
       "      <th>13</th>\n",
       "      <td>s185</td>\n",
       "      <td>Capomulin</td>\n",
       "      <td>Female</td>\n",
       "      <td>3</td>\n",
       "      <td>17</td>\n",
       "      <td>15</td>\n",
       "      <td>38.2</td>\n",
       "      <td>0</td>\n",
       "    </tr>\n",
       "    <tr>\n",
       "      <th>14</th>\n",
       "      <td>s185</td>\n",
       "      <td>Capomulin</td>\n",
       "      <td>Female</td>\n",
       "      <td>3</td>\n",
       "      <td>17</td>\n",
       "      <td>20</td>\n",
       "      <td>36.9</td>\n",
       "      <td>0</td>\n",
       "    </tr>\n",
       "    <tr>\n",
       "      <th>...</th>\n",
       "      <td>...</td>\n",
       "      <td>...</td>\n",
       "      <td>...</td>\n",
       "      <td>...</td>\n",
       "      <td>...</td>\n",
       "      <td>...</td>\n",
       "      <td>...</td>\n",
       "      <td>...</td>\n",
       "    </tr>\n",
       "    <tr>\n",
       "      <th>440</th>\n",
       "      <td>i557</td>\n",
       "      <td>Capomulin</td>\n",
       "      <td>Female</td>\n",
       "      <td>1</td>\n",
       "      <td>24</td>\n",
       "      <td>45</td>\n",
       "      <td>47.7</td>\n",
       "      <td>1</td>\n",
       "    </tr>\n",
       "    <tr>\n",
       "      <th>1452</th>\n",
       "      <td>r157</td>\n",
       "      <td>Capomulin</td>\n",
       "      <td>Male</td>\n",
       "      <td>22</td>\n",
       "      <td>25</td>\n",
       "      <td>0</td>\n",
       "      <td>45.0</td>\n",
       "      <td>0</td>\n",
       "    </tr>\n",
       "    <tr>\n",
       "      <th>1453</th>\n",
       "      <td>r157</td>\n",
       "      <td>Capomulin</td>\n",
       "      <td>Male</td>\n",
       "      <td>22</td>\n",
       "      <td>25</td>\n",
       "      <td>5</td>\n",
       "      <td>45.6</td>\n",
       "      <td>0</td>\n",
       "    </tr>\n",
       "    <tr>\n",
       "      <th>1454</th>\n",
       "      <td>r157</td>\n",
       "      <td>Capomulin</td>\n",
       "      <td>Male</td>\n",
       "      <td>22</td>\n",
       "      <td>25</td>\n",
       "      <td>10</td>\n",
       "      <td>46.1</td>\n",
       "      <td>0</td>\n",
       "    </tr>\n",
       "    <tr>\n",
       "      <th>1455</th>\n",
       "      <td>r157</td>\n",
       "      <td>Capomulin</td>\n",
       "      <td>Male</td>\n",
       "      <td>22</td>\n",
       "      <td>25</td>\n",
       "      <td>15</td>\n",
       "      <td>46.5</td>\n",
       "      <td>0</td>\n",
       "    </tr>\n",
       "  </tbody>\n",
       "</table>\n",
       "<p>230 rows × 8 columns</p>\n",
       "</div>"
      ],
      "text/plain": [
       "     Mouse ID Drug Regimen     Sex  Age_months  Weight (g)  Timepoint  \\\n",
       "10       s185    Capomulin  Female           3          17          0   \n",
       "11       s185    Capomulin  Female           3          17          5   \n",
       "12       s185    Capomulin  Female           3          17         10   \n",
       "13       s185    Capomulin  Female           3          17         15   \n",
       "14       s185    Capomulin  Female           3          17         20   \n",
       "...       ...          ...     ...         ...         ...        ...   \n",
       "440      i557    Capomulin  Female           1          24         45   \n",
       "1452     r157    Capomulin    Male          22          25          0   \n",
       "1453     r157    Capomulin    Male          22          25          5   \n",
       "1454     r157    Capomulin    Male          22          25         10   \n",
       "1455     r157    Capomulin    Male          22          25         15   \n",
       "\n",
       "      Tumor Volume (mm3)  Metastatic Sites  \n",
       "10                  45.0                 0  \n",
       "11                  43.9                 0  \n",
       "12                  37.6                 0  \n",
       "13                  38.2                 0  \n",
       "14                  36.9                 0  \n",
       "...                  ...               ...  \n",
       "440                 47.7                 1  \n",
       "1452                45.0                 0  \n",
       "1453                45.6                 0  \n",
       "1454                46.1                 0  \n",
       "1455                46.5                 0  \n",
       "\n",
       "[230 rows x 8 columns]"
      ]
     },
     "execution_count": 85,
     "metadata": {},
     "output_type": "execute_result"
    }
   ],
   "source": [
    "capomulinDF = pd.DataFrame(capomulin) \n",
    "capomulinDF"
   ]
  },
  {
   "cell_type": "code",
   "execution_count": 86,
   "metadata": {},
   "outputs": [
    {
     "data": {
      "text/html": [
       "<div>\n",
       "<style scoped>\n",
       "    .dataframe tbody tr th:only-of-type {\n",
       "        vertical-align: middle;\n",
       "    }\n",
       "\n",
       "    .dataframe tbody tr th {\n",
       "        vertical-align: top;\n",
       "    }\n",
       "\n",
       "    .dataframe thead th {\n",
       "        text-align: right;\n",
       "    }\n",
       "</style>\n",
       "<table border=\"1\" class=\"dataframe\">\n",
       "  <thead>\n",
       "    <tr style=\"text-align: right;\">\n",
       "      <th></th>\n",
       "      <th>Drug_Regimen</th>\n",
       "      <th>Tumor_Volume_Average</th>\n",
       "      <th>Weight</th>\n",
       "    </tr>\n",
       "    <tr>\n",
       "      <th>Mouse ID</th>\n",
       "      <th></th>\n",
       "      <th></th>\n",
       "      <th></th>\n",
       "    </tr>\n",
       "  </thead>\n",
       "  <tbody>\n",
       "    <tr>\n",
       "      <th>b128</th>\n",
       "      <td>(b128, [Capomulin, Capomulin, Capomulin, Capom...</td>\n",
       "      <td>42.0</td>\n",
       "      <td>22</td>\n",
       "    </tr>\n",
       "    <tr>\n",
       "      <th>b742</th>\n",
       "      <td>(b742, [Capomulin, Capomulin, Capomulin, Capom...</td>\n",
       "      <td>40.1</td>\n",
       "      <td>21</td>\n",
       "    </tr>\n",
       "    <tr>\n",
       "      <th>f966</th>\n",
       "      <td>(f966, [Capomulin, Capomulin, Capomulin, Capom...</td>\n",
       "      <td>36.5</td>\n",
       "      <td>17</td>\n",
       "    </tr>\n",
       "    <tr>\n",
       "      <th>g288</th>\n",
       "      <td>(g288, [Capomulin, Capomulin, Capomulin, Capom...</td>\n",
       "      <td>42.0</td>\n",
       "      <td>19</td>\n",
       "    </tr>\n",
       "    <tr>\n",
       "      <th>g316</th>\n",
       "      <td>(g316, [Capomulin, Capomulin, Capomulin, Capom...</td>\n",
       "      <td>44.6</td>\n",
       "      <td>22</td>\n",
       "    </tr>\n",
       "    <tr>\n",
       "      <th>i557</th>\n",
       "      <td>(i557, [Capomulin, Capomulin, Capomulin, Capom...</td>\n",
       "      <td>44.8</td>\n",
       "      <td>24</td>\n",
       "    </tr>\n",
       "    <tr>\n",
       "      <th>i738</th>\n",
       "      <td>(i738, [Capomulin, Capomulin, Capomulin, Capom...</td>\n",
       "      <td>39.1</td>\n",
       "      <td>20</td>\n",
       "    </tr>\n",
       "    <tr>\n",
       "      <th>j119</th>\n",
       "      <td>(j119, [Capomulin, Capomulin, Capomulin, Capom...</td>\n",
       "      <td>44.5</td>\n",
       "      <td>23</td>\n",
       "    </tr>\n",
       "    <tr>\n",
       "      <th>j246</th>\n",
       "      <td>(j246, [Capomulin, Capomulin, Capomulin, Capom...</td>\n",
       "      <td>43.2</td>\n",
       "      <td>21</td>\n",
       "    </tr>\n",
       "    <tr>\n",
       "      <th>l509</th>\n",
       "      <td>(l509, [Capomulin, Capomulin, Capomulin, Capom...</td>\n",
       "      <td>44.4</td>\n",
       "      <td>21</td>\n",
       "    </tr>\n",
       "    <tr>\n",
       "      <th>l897</th>\n",
       "      <td>(l897, [Capomulin, Capomulin, Capomulin, Capom...</td>\n",
       "      <td>42.5</td>\n",
       "      <td>19</td>\n",
       "    </tr>\n",
       "    <tr>\n",
       "      <th>m601</th>\n",
       "      <td>(m601, [Capomulin, Capomulin, Capomulin, Capom...</td>\n",
       "      <td>34.8</td>\n",
       "      <td>17</td>\n",
       "    </tr>\n",
       "    <tr>\n",
       "      <th>m957</th>\n",
       "      <td>(m957, [Capomulin, Capomulin, Capomulin, Capom...</td>\n",
       "      <td>39.0</td>\n",
       "      <td>19</td>\n",
       "    </tr>\n",
       "    <tr>\n",
       "      <th>r157</th>\n",
       "      <td>(r157, [Capomulin, Capomulin, Capomulin, Capom...</td>\n",
       "      <td>45.8</td>\n",
       "      <td>25</td>\n",
       "    </tr>\n",
       "    <tr>\n",
       "      <th>r554</th>\n",
       "      <td>(r554, [Capomulin, Capomulin, Capomulin, Capom...</td>\n",
       "      <td>36.5</td>\n",
       "      <td>17</td>\n",
       "    </tr>\n",
       "    <tr>\n",
       "      <th>r944</th>\n",
       "      <td>(r944, [Capomulin, Capomulin, Capomulin, Capom...</td>\n",
       "      <td>43.4</td>\n",
       "      <td>25</td>\n",
       "    </tr>\n",
       "    <tr>\n",
       "      <th>s185</th>\n",
       "      <td>(s185, [Capomulin, Capomulin, Capomulin, Capom...</td>\n",
       "      <td>34.6</td>\n",
       "      <td>17</td>\n",
       "    </tr>\n",
       "    <tr>\n",
       "      <th>s710</th>\n",
       "      <td>(s710, [Capomulin, Capomulin, Capomulin, Capom...</td>\n",
       "      <td>42.8</td>\n",
       "      <td>23</td>\n",
       "    </tr>\n",
       "    <tr>\n",
       "      <th>t565</th>\n",
       "      <td>(t565, [Capomulin, Capomulin, Capomulin, Capom...</td>\n",
       "      <td>39.3</td>\n",
       "      <td>17</td>\n",
       "    </tr>\n",
       "    <tr>\n",
       "      <th>u364</th>\n",
       "      <td>(u364, [Capomulin, Capomulin, Capomulin, Capom...</td>\n",
       "      <td>39.9</td>\n",
       "      <td>17</td>\n",
       "    </tr>\n",
       "    <tr>\n",
       "      <th>v923</th>\n",
       "      <td>(v923, [Capomulin, Capomulin, Capomulin, Capom...</td>\n",
       "      <td>41.6</td>\n",
       "      <td>21</td>\n",
       "    </tr>\n",
       "    <tr>\n",
       "      <th>w150</th>\n",
       "      <td>(w150, [Capomulin, Capomulin, Capomulin])</td>\n",
       "      <td>41.4</td>\n",
       "      <td>23</td>\n",
       "    </tr>\n",
       "    <tr>\n",
       "      <th>w914</th>\n",
       "      <td>(w914, [Capomulin, Capomulin, Capomulin, Capom...</td>\n",
       "      <td>41.4</td>\n",
       "      <td>21</td>\n",
       "    </tr>\n",
       "    <tr>\n",
       "      <th>x401</th>\n",
       "      <td>(x401, [Capomulin, Capomulin, Capomulin, Capom...</td>\n",
       "      <td>36.2</td>\n",
       "      <td>15</td>\n",
       "    </tr>\n",
       "    <tr>\n",
       "      <th>y793</th>\n",
       "      <td>(y793, [Capomulin, Capomulin, Capomulin, Capom...</td>\n",
       "      <td>38.5</td>\n",
       "      <td>17</td>\n",
       "    </tr>\n",
       "  </tbody>\n",
       "</table>\n",
       "</div>"
      ],
      "text/plain": [
       "                                               Drug_Regimen  \\\n",
       "Mouse ID                                                      \n",
       "b128      (b128, [Capomulin, Capomulin, Capomulin, Capom...   \n",
       "b742      (b742, [Capomulin, Capomulin, Capomulin, Capom...   \n",
       "f966      (f966, [Capomulin, Capomulin, Capomulin, Capom...   \n",
       "g288      (g288, [Capomulin, Capomulin, Capomulin, Capom...   \n",
       "g316      (g316, [Capomulin, Capomulin, Capomulin, Capom...   \n",
       "i557      (i557, [Capomulin, Capomulin, Capomulin, Capom...   \n",
       "i738      (i738, [Capomulin, Capomulin, Capomulin, Capom...   \n",
       "j119      (j119, [Capomulin, Capomulin, Capomulin, Capom...   \n",
       "j246      (j246, [Capomulin, Capomulin, Capomulin, Capom...   \n",
       "l509      (l509, [Capomulin, Capomulin, Capomulin, Capom...   \n",
       "l897      (l897, [Capomulin, Capomulin, Capomulin, Capom...   \n",
       "m601      (m601, [Capomulin, Capomulin, Capomulin, Capom...   \n",
       "m957      (m957, [Capomulin, Capomulin, Capomulin, Capom...   \n",
       "r157      (r157, [Capomulin, Capomulin, Capomulin, Capom...   \n",
       "r554      (r554, [Capomulin, Capomulin, Capomulin, Capom...   \n",
       "r944      (r944, [Capomulin, Capomulin, Capomulin, Capom...   \n",
       "s185      (s185, [Capomulin, Capomulin, Capomulin, Capom...   \n",
       "s710      (s710, [Capomulin, Capomulin, Capomulin, Capom...   \n",
       "t565      (t565, [Capomulin, Capomulin, Capomulin, Capom...   \n",
       "u364      (u364, [Capomulin, Capomulin, Capomulin, Capom...   \n",
       "v923      (v923, [Capomulin, Capomulin, Capomulin, Capom...   \n",
       "w150              (w150, [Capomulin, Capomulin, Capomulin])   \n",
       "w914      (w914, [Capomulin, Capomulin, Capomulin, Capom...   \n",
       "x401      (x401, [Capomulin, Capomulin, Capomulin, Capom...   \n",
       "y793      (y793, [Capomulin, Capomulin, Capomulin, Capom...   \n",
       "\n",
       "          Tumor_Volume_Average  Weight  \n",
       "Mouse ID                                \n",
       "b128                      42.0      22  \n",
       "b742                      40.1      21  \n",
       "f966                      36.5      17  \n",
       "g288                      42.0      19  \n",
       "g316                      44.6      22  \n",
       "i557                      44.8      24  \n",
       "i738                      39.1      20  \n",
       "j119                      44.5      23  \n",
       "j246                      43.2      21  \n",
       "l509                      44.4      21  \n",
       "l897                      42.5      19  \n",
       "m601                      34.8      17  \n",
       "m957                      39.0      19  \n",
       "r157                      45.8      25  \n",
       "r554                      36.5      17  \n",
       "r944                      43.4      25  \n",
       "s185                      34.6      17  \n",
       "s710                      42.8      23  \n",
       "t565                      39.3      17  \n",
       "u364                      39.9      17  \n",
       "v923                      41.6      21  \n",
       "w150                      41.4      23  \n",
       "w914                      41.4      21  \n",
       "x401                      36.2      15  \n",
       "y793                      38.5      17  "
      ]
     },
     "execution_count": 86,
     "metadata": {},
     "output_type": "execute_result"
    }
   ],
   "source": [
    "CapomulinData = pd.DataFrame ({\n",
    "    \"Drug_Regimen\" : capomulinDF.groupby(\"Mouse ID\")[\"Drug Regimen\"], #.last(),\n",
    "    \"Tumor_Volume_Average\" : capomulinDF.groupby(\"Mouse ID\")[\"Tumor Volume (mm3)\"].mean(),\n",
    "   \"Weight\" : round ((capomulinDF.groupby(\"Mouse ID\")[\"Weight (g)\"].mean()),2),\n",
    "})\n",
    "\n",
    "CapomulinData"
   ]
  },
  {
   "cell_type": "code",
   "execution_count": 87,
   "metadata": {},
   "outputs": [
    {
     "data": {
      "text/plain": [
       "(25, 3)"
      ]
     },
     "execution_count": 87,
     "metadata": {},
     "output_type": "execute_result"
    }
   ],
   "source": [
    "# df shape\n",
    "\n",
    "CapomulinData.shape"
   ]
  },
  {
   "cell_type": "code",
   "execution_count": 88,
   "metadata": {},
   "outputs": [
    {
     "data": {
      "text/plain": [
       "Drug_Regimen             object\n",
       "Tumor_Volume_Average    float64\n",
       "Weight                    int64\n",
       "dtype: object"
      ]
     },
     "execution_count": 88,
     "metadata": {},
     "output_type": "execute_result"
    }
   ],
   "source": [
    "#data types\n",
    "\n",
    "CapomulinData.dtypes"
   ]
  },
  {
   "cell_type": "code",
   "execution_count": 89,
   "metadata": {},
   "outputs": [
    {
     "name": "stdout",
     "output_type": "stream",
     "text": [
      "<class 'pandas.core.frame.DataFrame'>\n",
      "Index: 25 entries, b128 to y793\n",
      "Data columns (total 3 columns):\n",
      " #   Column                Non-Null Count  Dtype  \n",
      "---  ------                --------------  -----  \n",
      " 0   Drug_Regimen          25 non-null     object \n",
      " 1   Tumor_Volume_Average  25 non-null     float64\n",
      " 2   Weight                25 non-null     int64  \n",
      "dtypes: float64(1), int64(1), object(1)\n",
      "memory usage: 800.0+ bytes\n"
     ]
    }
   ],
   "source": [
    "# number null values\n",
    "\n",
    "CapomulinData.info()"
   ]
  },
  {
   "cell_type": "code",
   "execution_count": 90,
   "metadata": {},
   "outputs": [],
   "source": [
    "import matplotlib.pyplot as plt\n",
    "plt.style.use('ggplot')"
   ]
  },
  {
   "cell_type": "code",
   "execution_count": 91,
   "metadata": {},
   "outputs": [
    {
     "data": {
      "text/plain": [
       "Text(0, 0.5, 'Frequency')"
      ]
     },
     "execution_count": 91,
     "metadata": {},
     "output_type": "execute_result"
    },
    {
     "data": {
      "image/png": "[encoded data removed]",
      "text/plain": [
       "<Figure size 720x504 with 1 Axes>"
      ]
     },
     "metadata": {},
     "output_type": "display_data"
    }
   ],
   "source": [
    "# histograma del volumen del tumor\n",
    "\n",
    "CapomulinData.Tumor_Volume_Average.plot(kind= 'hist', color= \"purple\", edgecolor= 'black', figsize=(10,7))\n",
    "plt.title('Distribution of Tumor Volume Avg', size=24)\n",
    "plt.xlabel('Tumor_Volume_Average (mm3)', size=24)\n",
    "plt.ylabel('Frequency', size=18)\n",
    "\n"
   ]
  },
  {
   "cell_type": "code",
   "execution_count": 92,
   "metadata": {},
   "outputs": [
    {
     "data": {
      "text/plain": [
       "Text(0, 0.5, 'Frequency')"
      ]
     },
     "execution_count": 92,
     "metadata": {},
     "output_type": "execute_result"
    },
    {
     "data": {
      "image/png": "[encoded data removed]",
      "text/plain": [
       "<Figure size 720x504 with 1 Axes>"
      ]
     },
     "metadata": {},
     "output_type": "display_data"
    }
   ],
   "source": [
    "# histograma del volumen del peso del ratón\n",
    "\n",
    "CapomulinData.Tumor_Volume_Average.plot(kind= 'hist', color= \"purple\", edgecolor= 'black', figsize=(10,7))\n",
    "plt.title('Distribution of Mouse Weight', size=24)\n",
    "plt.xlabel('Weight(grams)', size=20)\n",
    "plt.ylabel('Frequency', size=18)"
   ]
  },
  {
   "cell_type": "code",
   "execution_count": 93,
   "metadata": {},
   "outputs": [
    {
     "data": {
      "image/png": "[encoded data removed]",
      "text/plain": [
       "<Figure size 1440x720 with 1 Axes>"
      ]
     },
     "metadata": {},
     "output_type": "display_data"
    }
   ],
   "source": [
    "#Diagrama de dispersión por Volumen del Tumor vs Peso\n",
    "\n",
    "CapomulinData.plot(kind= \"scatter\", x = \"Tumor_Volume_Average\", y=\"Weight\", color= \"magenta\", alpha= 0.5, figsize=(20,10))\n",
    "\n",
    "plt.legend(labels=[\"Capomulin\"])\n",
    "plt.title(\"Relationship between Avg Tumor Volume and Weight\", size= 24)\n",
    "plt.xlabel(\"Avg Tumor Volume (mm3)\", size = 20)\n",
    "plt.ylabel(\"Weight (grams)\");"
   ]
  },
  {
   "cell_type": "code",
   "execution_count": 94,
   "metadata": {},
   "outputs": [
    {
     "name": "stdout",
     "output_type": "stream",
     "text": [
      "<class 'pandas.core.frame.DataFrame'>\n",
      "Index: 25 entries, b128 to y793\n",
      "Data columns (total 3 columns):\n",
      " #   Column                Non-Null Count  Dtype  \n",
      "---  ------                --------------  -----  \n",
      " 0   Drug_Regimen          25 non-null     object \n",
      " 1   Tumor_Volume_Average  25 non-null     float64\n",
      " 2   Weight                25 non-null     int64  \n",
      "dtypes: float64(1), int64(1), object(1)\n",
      "memory usage: 800.0+ bytes\n"
     ]
    }
   ],
   "source": [
    "# number null values\n",
    "CapomulinData.info()"
   ]
  },
  {
   "cell_type": "code",
   "execution_count": 95,
   "metadata": {},
   "outputs": [],
   "source": [
    "import numpy as np\n",
    "\n",
    "# polynomial - \n",
    "CapomulinNPFit = np.polyfit(CapomulinData.Tumor_Volume_Average, CapomulinData.Weight, 1)\n",
    "# array([   5.96177381, -224.49884071])\n",
    "\n"
   ]
  },
  {
   "cell_type": "code",
   "execution_count": 96,
   "metadata": {},
   "outputs": [
    {
     "data": {
      "image/png": "[encoded data removed]",
      "text/plain": [
       "<Figure size 720x504 with 1 Axes>"
      ]
     },
     "metadata": {},
     "output_type": "display_data"
    }
   ],
   "source": [
    "CapomulinDisp = pd.DataFrame(CapomulinData) \n",
    "\n",
    "#gráfico de dispersión\n",
    "CapomulinDisp.plot(kind= \"scatter\", x = \"Tumor_Volume_Average\", y=\"Weight\", color= \"blue\", alpha= 0.5, figsize=(10,7))\n",
    "\n",
    "# líneas de regresión\n",
    "\n",
    "#plt.plot = (CapomulinFit.Tumor_Volume_Average, CapomulinData.Weight, 1)\n",
    "plt.plot (CapomulinData.Tumor_Volume_Average, CapomulinNPFit[0] * CapomulinData.Tumor_Volume_Average + CapomulinNPFit [1], color= \"darkblue\", linewidth =2)\n",
    "#plt.plot (CapomulinData.Weight, CapomulinNPFit[0] * CapomulinData.Weight + CapomulinNPFit [1], color= \"deeppink\", linewidth =2)\n",
    "#ecuaciones de regresión\n",
    "plt.text (65, 230, 'y={:.2f}+{:.2f}*x'.format(CapomulinNPFit[1], CapomulinNPFit[0]), color= \"darkblue\", size =12)\n",
    "\n",
    "\n",
    "\n",
    "# leyenda título y etiquetas\n",
    "\n",
    "plt.legend(labels=[\"Capomulin Regresion Line\", \"Capomulin\"])\n",
    "plt.title(\"Relationship between Avg Tumor Volume and Weight\", size= 24)\n",
    "plt.xlabel(\"Avg Tumor Volume (mm3)\", size = 20)\n",
    "plt.ylabel(\"Weight (grams)\", size= 20);\n",
    "\n",
    "\n"
   ]
  },
  {
   "cell_type": "code",
   "execution_count": 97,
   "metadata": {},
   "outputs": [
    {
     "data": {
      "text/html": [
       "<div>\n",
       "<style scoped>\n",
       "    .dataframe tbody tr th:only-of-type {\n",
       "        vertical-align: middle;\n",
       "    }\n",
       "\n",
       "    .dataframe tbody tr th {\n",
       "        vertical-align: top;\n",
       "    }\n",
       "\n",
       "    .dataframe thead th {\n",
       "        text-align: right;\n",
       "    }\n",
       "</style>\n",
       "<table border=\"1\" class=\"dataframe\">\n",
       "  <thead>\n",
       "    <tr style=\"text-align: right;\">\n",
       "      <th></th>\n",
       "      <th>Tumor_Volume_Average</th>\n",
       "      <th>Weight</th>\n",
       "    </tr>\n",
       "  </thead>\n",
       "  <tbody>\n",
       "    <tr>\n",
       "      <th>Tumor_Volume_Average</th>\n",
       "      <td>1.0</td>\n",
       "      <td>0.8</td>\n",
       "    </tr>\n",
       "    <tr>\n",
       "      <th>Weight</th>\n",
       "      <td>0.8</td>\n",
       "      <td>1.0</td>\n",
       "    </tr>\n",
       "  </tbody>\n",
       "</table>\n",
       "</div>"
      ],
      "text/plain": [
       "                      Tumor_Volume_Average  Weight\n",
       "Tumor_Volume_Average                   1.0     0.8\n",
       "Weight                                 0.8     1.0"
      ]
     },
     "execution_count": 97,
     "metadata": {},
     "output_type": "execute_result"
    }
   ],
   "source": [
    "CapomulinData.corr()"
   ]
  },
  {
   "cell_type": "code",
   "execution_count": 98,
   "metadata": {},
   "outputs": [],
   "source": [
    "#A rule of thumb for interpreting the size of the correlation coefficient is the following:\n",
    "# 1–0.8 → Very strong\n",
    "# 0.799–0.6 → Strong\n",
    "# 0.599–0.4 → Moderate\n",
    "# 0.399–0.2 → Weak\n",
    "# 0.199–0 → Very Weak"
   ]
  }
 ],
 "metadata": {
  "anaconda-cloud": {},
  "kernelspec": {
   "display_name": "Python 3",
   "language": "python",
   "name": "python3"
  },
  "language_info": {
   "codemirror_mode": {
    "name": "ipython",
    "version": 3
   },
   "file_extension": ".py",
   "mimetype": "text/x-python",
   "name": "python",
   "nbconvert_exporter": "python",
   "pygments_lexer": "ipython3",
   "version": "3.7.6"
  }
 },
 "nbformat": 4,
 "nbformat_minor": 4
}
